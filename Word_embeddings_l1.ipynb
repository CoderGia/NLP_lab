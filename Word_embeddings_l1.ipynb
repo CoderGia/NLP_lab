{
 "cells": [
  {
   "cell_type": "code",
   "execution_count": 13,
   "metadata": {
    "collapsed": true
   },
   "outputs": [],
   "source": [
    "import nltk\n",
    "from nltk.tokenize import word_tokenize\n",
    "from nltk.corpus import stopwords\n",
    "import pandas as pd"
   ]
  },
  {
   "cell_type": "code",
   "execution_count": 14,
   "outputs": [
    {
     "data": {
      "text/plain": "       Toxicity                                              tweet\n0             0   @user when a father is dysfunctional and is s...\n1             0  @user @user thanks for #lyft credit i can't us...\n2             0                                bihday your majesty\n3             0  #model   i love u take with u all the time in ...\n4             0             factsguide: society now    #motivation\n...         ...                                                ...\n56740         1  you's a muthaf***in lie &#8220;@LifeAsKing: @2...\n56741         1  you've gone and broke the wrong heart baby, an...\n56742         1  young buck wanna eat!!.. dat nigguh like I ain...\n56743         1              youu got wild bitches tellin you lies\n56744         0  ~~Ruffled | Ntac Eileen Dahlia - Beautiful col...\n\n[56745 rows x 2 columns]",
      "text/html": "<div>\n<style scoped>\n    .dataframe tbody tr th:only-of-type {\n        vertical-align: middle;\n    }\n\n    .dataframe tbody tr th {\n        vertical-align: top;\n    }\n\n    .dataframe thead th {\n        text-align: right;\n    }\n</style>\n<table border=\"1\" class=\"dataframe\">\n  <thead>\n    <tr style=\"text-align: right;\">\n      <th></th>\n      <th>Toxicity</th>\n      <th>tweet</th>\n    </tr>\n  </thead>\n  <tbody>\n    <tr>\n      <th>0</th>\n      <td>0</td>\n      <td>@user when a father is dysfunctional and is s...</td>\n    </tr>\n    <tr>\n      <th>1</th>\n      <td>0</td>\n      <td>@user @user thanks for #lyft credit i can't us...</td>\n    </tr>\n    <tr>\n      <th>2</th>\n      <td>0</td>\n      <td>bihday your majesty</td>\n    </tr>\n    <tr>\n      <th>3</th>\n      <td>0</td>\n      <td>#model   i love u take with u all the time in ...</td>\n    </tr>\n    <tr>\n      <th>4</th>\n      <td>0</td>\n      <td>factsguide: society now    #motivation</td>\n    </tr>\n    <tr>\n      <th>...</th>\n      <td>...</td>\n      <td>...</td>\n    </tr>\n    <tr>\n      <th>56740</th>\n      <td>1</td>\n      <td>you's a muthaf***in lie &amp;#8220;@LifeAsKing: @2...</td>\n    </tr>\n    <tr>\n      <th>56741</th>\n      <td>1</td>\n      <td>you've gone and broke the wrong heart baby, an...</td>\n    </tr>\n    <tr>\n      <th>56742</th>\n      <td>1</td>\n      <td>young buck wanna eat!!.. dat nigguh like I ain...</td>\n    </tr>\n    <tr>\n      <th>56743</th>\n      <td>1</td>\n      <td>youu got wild bitches tellin you lies</td>\n    </tr>\n    <tr>\n      <th>56744</th>\n      <td>0</td>\n      <td>~~Ruffled | Ntac Eileen Dahlia - Beautiful col...</td>\n    </tr>\n  </tbody>\n</table>\n<p>56745 rows × 2 columns</p>\n</div>"
     },
     "execution_count": 14,
     "metadata": {},
     "output_type": "execute_result"
    }
   ],
   "source": [
    "tdf = pd.read_csv(\"FinalBalancedDataset.csv\", delimiter=\",\")\n",
    "tdf = tdf.drop('Unnamed: 0', axis=1)\n",
    "tdf"
   ],
   "metadata": {
    "collapsed": false
   }
  },
  {
   "cell_type": "code",
   "execution_count": null,
   "outputs": [],
   "source": [
    "# import re\n",
    "# import string\n",
    "# from nltk.stem import PorterStemmer\n",
    "#\n",
    "# stemmer = PorterStemmer()\n",
    "# patterns = \"[^a-zA-Z]\"\n",
    "# stopwords_eng = stopwords.words(\"english\")\n",
    "#\n",
    "#\n",
    "# def tweet_preprocess(raw_text):\n",
    "#     raw_text = re.sub(patterns, ' ', raw_text)\n",
    "#     tokens = []\n",
    "#     for token in raw_text.split():\n",
    "#         token = token.lower()\n",
    "#         if token not in stopwords_eng:\n",
    "#             token = token.strip()\n",
    "#             token = stemmer.stem(token)\n",
    "#\n",
    "#             tokens.append(token)\n",
    "#     return \" \".join(tokens)"
   ],
   "metadata": {
    "collapsed": false
   }
  },
  {
   "cell_type": "code",
   "execution_count": null,
   "outputs": [],
   "source": [
    "import re\n",
    "import string\n",
    "from nltk.stem import PorterStemmer\n",
    "\n",
    "\n",
    "def tweet_preprocess(raw_tweet):\n",
    "    stemmer = PorterStemmer()\n",
    "    stopwords_eng = stopwords.words(\"english\")\n",
    "\n",
    "    clean_tweet = re.sub(\n",
    "        \"@[0-9a-zA-Z]+|#|https?://[0-9a-zA-Z\\./\\-_\\?]+|â¦|(amp)|[^\\x20-\\x7e]|â|¥|ð|»|¼|ï|¸|¦|±|¯|[0-9]+\", '',\n",
    "        raw_tweet)\n",
    "    clean_tweet = clean_tweet.lower()\n",
    "    clean_tweet = [word.strip(string.punctuation) for word in clean_tweet.split()]\n",
    "    clean_tweet = [word for word in clean_tweet if word not in stopwords_eng]\n",
    "    clean_tweet = [word for word in clean_tweet if len(word) > 0]\n",
    "    clean_tweet = [stemmer.stem(word) for word in clean_tweet]\n",
    "    return \" \".join(clean_tweet)\n"
   ],
   "metadata": {
    "collapsed": false,
    "pycharm": {
     "is_executing": true
    }
   }
  },
  {
   "cell_type": "markdown",
   "source": [
    "Обучение Word2Vec и FastText"
   ],
   "metadata": {
    "collapsed": false
   }
  },
  {
   "cell_type": "code",
   "execution_count": 74,
   "outputs": [],
   "source": [
    "tdf[\"clean_tweet\"] = tdf[\"tweet\"].map(tweet_preprocess)"
   ],
   "metadata": {
    "collapsed": false
   }
  },
  {
   "cell_type": "code",
   "execution_count": 75,
   "outputs": [
    {
     "data": {
      "text/plain": "       Toxicity                                              tweet  \\\n0             0   @user when a father is dysfunctional and is s...   \n1             0  @user @user thanks for #lyft credit i can't us...   \n2             0                                bihday your majesty   \n3             0  #model   i love u take with u all the time in ...   \n4             0             factsguide: society now    #motivation   \n...         ...                                                ...   \n56740         1  you's a muthaf***in lie &#8220;@LifeAsKing: @2...   \n56741         1  you've gone and broke the wrong heart baby, an...   \n56742         1  young buck wanna eat!!.. dat nigguh like I ain...   \n56743         1              youu got wild bitches tellin you lies   \n56744         0  ~~Ruffled | Ntac Eileen Dahlia - Beautiful col...   \n\n                                             clean_tweet  \n0          father dysfunct selfish drag kid dysfunct run  \n1      thank lyft credit can't use caus offer wheelch...  \n2                                         bihday majesti  \n3                            model love u take u time ur  \n4                                factsguid societi motiv  \n...                                                  ...  \n56740  you' muthaf***in lie pearl emanuel right tl tr...  \n56741    gone broke wrong heart babi drove redneck crazi  \n56742  young buck wanna eat dat nigguh like aint fuck...  \n56743                     youu got wild bitch tellin lie  \n56744  ruffl ntac eileen dahlia beauti color combin p...  \n\n[56745 rows x 3 columns]",
      "text/html": "<div>\n<style scoped>\n    .dataframe tbody tr th:only-of-type {\n        vertical-align: middle;\n    }\n\n    .dataframe tbody tr th {\n        vertical-align: top;\n    }\n\n    .dataframe thead th {\n        text-align: right;\n    }\n</style>\n<table border=\"1\" class=\"dataframe\">\n  <thead>\n    <tr style=\"text-align: right;\">\n      <th></th>\n      <th>Toxicity</th>\n      <th>tweet</th>\n      <th>clean_tweet</th>\n    </tr>\n  </thead>\n  <tbody>\n    <tr>\n      <th>0</th>\n      <td>0</td>\n      <td>@user when a father is dysfunctional and is s...</td>\n      <td>father dysfunct selfish drag kid dysfunct run</td>\n    </tr>\n    <tr>\n      <th>1</th>\n      <td>0</td>\n      <td>@user @user thanks for #lyft credit i can't us...</td>\n      <td>thank lyft credit can't use caus offer wheelch...</td>\n    </tr>\n    <tr>\n      <th>2</th>\n      <td>0</td>\n      <td>bihday your majesty</td>\n      <td>bihday majesti</td>\n    </tr>\n    <tr>\n      <th>3</th>\n      <td>0</td>\n      <td>#model   i love u take with u all the time in ...</td>\n      <td>model love u take u time ur</td>\n    </tr>\n    <tr>\n      <th>4</th>\n      <td>0</td>\n      <td>factsguide: society now    #motivation</td>\n      <td>factsguid societi motiv</td>\n    </tr>\n    <tr>\n      <th>...</th>\n      <td>...</td>\n      <td>...</td>\n      <td>...</td>\n    </tr>\n    <tr>\n      <th>56740</th>\n      <td>1</td>\n      <td>you's a muthaf***in lie &amp;#8220;@LifeAsKing: @2...</td>\n      <td>you' muthaf***in lie pearl emanuel right tl tr...</td>\n    </tr>\n    <tr>\n      <th>56741</th>\n      <td>1</td>\n      <td>you've gone and broke the wrong heart baby, an...</td>\n      <td>gone broke wrong heart babi drove redneck crazi</td>\n    </tr>\n    <tr>\n      <th>56742</th>\n      <td>1</td>\n      <td>young buck wanna eat!!.. dat nigguh like I ain...</td>\n      <td>young buck wanna eat dat nigguh like aint fuck...</td>\n    </tr>\n    <tr>\n      <th>56743</th>\n      <td>1</td>\n      <td>youu got wild bitches tellin you lies</td>\n      <td>youu got wild bitch tellin lie</td>\n    </tr>\n    <tr>\n      <th>56744</th>\n      <td>0</td>\n      <td>~~Ruffled | Ntac Eileen Dahlia - Beautiful col...</td>\n      <td>ruffl ntac eileen dahlia beauti color combin p...</td>\n    </tr>\n  </tbody>\n</table>\n<p>56745 rows × 3 columns</p>\n</div>"
     },
     "execution_count": 75,
     "metadata": {},
     "output_type": "execute_result"
    }
   ],
   "source": [
    "tdf"
   ],
   "metadata": {
    "collapsed": false
   }
  },
  {
   "cell_type": "code",
   "execution_count": null,
   "outputs": [],
   "source": [],
   "metadata": {
    "collapsed": false
   }
  }
 ],
 "metadata": {
  "kernelspec": {
   "display_name": "Python 3",
   "language": "python",
   "name": "python3"
  },
  "language_info": {
   "codemirror_mode": {
    "name": "ipython",
    "version": 2
   },
   "file_extension": ".py",
   "mimetype": "text/x-python",
   "name": "python",
   "nbconvert_exporter": "python",
   "pygments_lexer": "ipython2",
   "version": "2.7.6"
  }
 },
 "nbformat": 4,
 "nbformat_minor": 0
}
